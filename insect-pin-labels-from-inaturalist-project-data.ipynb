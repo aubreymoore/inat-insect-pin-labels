{
 "cells": [
  {
   "cell_type": "markdown",
   "metadata": {},
   "source": [
    "# Insect Pin Labels from iNaturalist Project Data\n",
    " \n",
    "This iPython notebook provides code for generating PDF pages of small labels for pinned insect specimens from data stored in an iNaturalist project. \n",
    "\n",
    "It was originally developed for my University of Guam entomology students who use iNaturalist to catalog their insect collections."
   ]
  },
  {
   "cell_type": "markdown",
   "metadata": {},
   "source": [
    "## Step 1. Download iNaturalist Project Data as a CSV\n",
    "\n",
    "All observations associated with an iNaturalist project are downloaded as a CSV file. \n",
    "\n",
    "This can be done manually by visiting an iNaturalist project page and pressing the CSV link. On the form that appears,  select the fields listed in the **selected_checkboxes** dict below. Place the downloaded **\\*.csv.zip file** in the same directory as this iPython notebook. Skip to **Step 2**.\n",
    "\n",
    "Alternatively, you can run the following code which uses **selenium** and the **FireFox browser** to automate the download."
   ]
  },
  {
   "cell_type": "code",
   "execution_count": 1,
   "metadata": {
    "collapsed": false
   },
   "outputs": [],
   "source": [
    "from selenium import webdriver\n",
    "from selenium.webdriver.support.ui import Select\n",
    "import getpass\n",
    "from time import sleep\n",
    "import time\n",
    "import os\n",
    "import glob"
   ]
  },
  {
   "cell_type": "code",
   "execution_count": 2,
   "metadata": {
    "collapsed": false
   },
   "outputs": [
    {
     "name": "stdout",
     "output_type": "stream",
     "text": [
      "iNaturalist user name:  [aubreymoore]:\n",
      "iNaturalist password: ········\n",
      "iNaturalist project name:  [ag-bi-345-f15]:\n"
     ]
    }
   ],
   "source": [
    "# Get iNat user name, password, and project name.\n",
    "\n",
    "def default_input( message, defaultVal ):\n",
    "    if defaultVal:\n",
    "        return raw_input( \"%s [%s]:\" % (message,defaultVal) ) or defaultVal\n",
    "    else:\n",
    "        return raw_input( \"%s \" % (message) )\n",
    "    \n",
    "default_inat_user_name = 'aubreymoore'\n",
    "default_inat_project_name = 'ag-bi-345-f15'\n",
    "\n",
    "inat_user_name = default_input('iNaturalist user name: ', default_inat_user_name)\n",
    "inat_password = getpass.getpass('iNaturalist password: ')\n",
    "inat_project_name = default_input('iNaturalist project name: ', default_inat_project_name)"
   ]
  },
  {
   "cell_type": "code",
   "execution_count": 3,
   "metadata": {
    "collapsed": false
   },
   "outputs": [],
   "source": [
    "def select_fields_to_download():\n",
    "    \"\"\" Selects and deselects check boxes on iNat CSV export page to determine which fields to download.\n",
    "    \"\"\"\n",
    "    selected_checkboxes = {'id':True,\n",
    "                           'observed_on_string':False, \n",
    "                           'observed_on':True, \n",
    "                           'time_observed_at':False,\n",
    "                           'time_zone':False,\n",
    "                           'out_of_range':False,\n",
    "                           'user_login':True,\n",
    "                           'created_at':False,\n",
    "                           'updated_at':False,\n",
    "                           'quality_grade':False,\n",
    "                           'license':False,\n",
    "                           'url':False,\n",
    "                           'image_url':False,\n",
    "                           'tag_list':False,\n",
    "                           'description':True,\n",
    "                           'id_please':False,\n",
    "                           'num_identification_agreements':False,\n",
    "                           'num_identification_disagreements':False,\n",
    "                           'captive_cultivated':False,\n",
    "                           'oauth_application_id':False,\n",
    "                           'place_guess':True,\n",
    "                           'latitude':True,\n",
    "                           'longitude':True,\n",
    "                           'positional_accuracy':True,\n",
    "                           'private_latitude':False,\n",
    "                           'private_longitude':False,\n",
    "                           'private_positional_accuracy':False,\n",
    "                           'geoprivacy':False,\n",
    "                           'positioning_method':False,\n",
    "                           'positioning_device':False,\n",
    "                           'place_town_name':False,\n",
    "                           'place_county_name':False,\n",
    "                           'place_state_name':False,\n",
    "                           'place_country_name':False,\n",
    "                           'species_guess':False,\n",
    "                           'scientific_name':True,\n",
    "                           'common_name':True,\n",
    "                           'iconic_taxon_name':False,\n",
    "                           'taxon_id':True,\n",
    "                           'taxon_kingdom_name':False,\n",
    "                           'taxon_phylum_name':False,\n",
    "                           'taxon_subphylum_name':False,\n",
    "                           'taxon_superclass_name':False,\n",
    "                           'taxon_class_name':False,\n",
    "                           'taxon_subclass_name':False,\n",
    "                           'taxon_superorder_name':False,\n",
    "                           'taxon_order_name':True,\n",
    "                           'taxon_suborder_name':False,\n",
    "                           'taxon_superfamily_name':False,\n",
    "                           'taxon_family_name':True,\n",
    "                           'taxon_subfamily_name':False,\n",
    "                           'taxon_supertribe_name':False,\n",
    "                           'taxon_tribe_name':False,\n",
    "                           'taxon_subtribe_name':False,\n",
    "                           'taxon_genus_name':False,\n",
    "                           'taxon_genushybrid_name':False,\n",
    "                           'taxon_species_name':False,\n",
    "                           'taxon_hybrid_name':False,\n",
    "                           'taxon_subspecies_name':False,\n",
    "                           'taxon_variety_name':False,\n",
    "                           'taxon_form_name':False}\n",
    "    for key, value in selected_checkboxes.iteritems():\n",
    "        elem = driver.find_element_by_id(\"observations_export_flow_task_options_columns_\" + key)\n",
    "        if value != elem.is_selected():\n",
    "            elem.click()"
   ]
  },
  {
   "cell_type": "code",
   "execution_count": 4,
   "metadata": {
    "collapsed": false
   },
   "outputs": [
    {
     "name": "stdout",
     "output_type": "stream",
     "text": [
      "Sleeping for 60 seconds.\n"
     ]
    }
   ],
   "source": [
    "# Request CSV export for an iNat project\n",
    "\n",
    "# Set the FireFox profile to automatically download zip files into the\n",
    "# current working directory.\n",
    "fp = webdriver.FirefoxProfile()\n",
    "fp.set_preference(\"browser.download.folderList\",2)\n",
    "fp.set_preference(\"browser.download.manager.showWhenStarting\",False)\n",
    "fp.set_preference(\"browser.download.dir\", os.getcwd())\n",
    "fp.set_preference(\"browser.helperApps.neverAsk.saveToDisk\", \"application/zip\")\n",
    "\n",
    "# Open iNat in the browser and log in\n",
    "driver = webdriver.Firefox(firefox_profile=fp)\n",
    "driver.get('http://www.inaturalist.org/login')\n",
    "driver.maximize_window()\n",
    "driver.find_element_by_name(\"user[email]\").send_keys(inat_user_name)\n",
    "driver.find_element_by_name(\"user[password]\").send_keys(inat_password)\n",
    "driver.find_element_by_name(\"commit\").click()\n",
    "sleep(10)\n",
    "\n",
    "# Open the project page and click on the CSV export link\n",
    "driver.get('http://www.inaturalist.org/projects/{}'.format(inat_project_name))\n",
    "driver.find_element_by_class_name(\"csvlink\").click()\n",
    "sleep(10)\n",
    "\n",
    "# Select fields to be included in the CSV export submit the export request\n",
    "select_fields_to_download()\n",
    "driver.find_element_by_name(\"commit\").click()\n",
    "sleep(60)\n",
    "print('Sleeping for 60 seconds.')\n",
    "\n",
    "# Check for successful export\n",
    "driver.find_element_by_xpath(\"id('success')/table/tbody/tr/td[1]/a\").click()\n",
    "sleep(10)"
   ]
  },
  {
   "cell_type": "code",
   "execution_count": 5,
   "metadata": {
    "collapsed": false
   },
   "outputs": [
    {
     "name": "stdout",
     "output_type": "stream",
     "text": [
      "['observations-8066.csv.zip', 'observations-8067.csv.zip', 'observations-8068.csv.zip']\n",
      "['observations-8067.csv.zip', 'observations-8068.csv.zip']\n"
     ]
    }
   ],
   "source": [
    "# Do some house cleaning. Delete all *.csv.zip files except for the 2 most recent ones.\n",
    "\n",
    "files = glob.glob('*.csv.zip')\n",
    "files.sort(key=os.path.getmtime)\n",
    "print(files)\n",
    "for f in files[:-2]:\n",
    "    os.remove(f)\n",
    "files = glob.glob('*.csv.zip')\n",
    "files.sort(key=os.path.getmtime)   \n",
    "print(files)"
   ]
  },
  {
   "cell_type": "markdown",
   "metadata": {},
   "source": [
    "## Step 2. Generate PDF sheet(s) containing insect pin labels\n",
    "If all goes right, a preview of the PDF file containing insect pin labels will be \n",
    "displayed at the end of this process."
   ]
  },
  {
   "cell_type": "code",
   "execution_count": 6,
   "metadata": {
    "collapsed": false
   },
   "outputs": [
    {
     "name": "stdout",
     "output_type": "stream",
     "text": [
      "Most recently downloaded iNat project data:\n",
      "    observations-8068.csv.zip\n",
      "    Last modified: Sat Jan  2 10:06:28 2016\n"
     ]
    }
   ],
   "source": [
    "# Get the filename of the most recent *.csv.zip file in the current working directory.\n",
    "\n",
    "inat_project_data = max(glob.iglob('*.csv.zip'), key=os.path.getmtime)\n",
    "print('Most recently downloaded iNat project data:')\n",
    "print('    ' + inat_project_data)\n",
    "print('    Last modified: ' + time.ctime(os.path.getmtime(inat_project_data)))"
   ]
  },
  {
   "cell_type": "code",
   "execution_count": 7,
   "metadata": {
    "collapsed": false,
    "scrolled": true
   },
   "outputs": [
    {
     "data": {
      "text/html": [
       "<div>\n",
       "<table border=\"1\" class=\"dataframe\">\n",
       "  <thead>\n",
       "    <tr style=\"text-align: right;\">\n",
       "      <th></th>\n",
       "      <th>id</th>\n",
       "      <th>observed_on</th>\n",
       "      <th>user_id</th>\n",
       "      <th>user_login</th>\n",
       "      <th>quality_grade</th>\n",
       "      <th>description</th>\n",
       "      <th>place_guess</th>\n",
       "      <th>latitude</th>\n",
       "      <th>longitude</th>\n",
       "      <th>positional_accuracy</th>\n",
       "      <th>scientific_name</th>\n",
       "      <th>common_name</th>\n",
       "      <th>taxon_id</th>\n",
       "      <th>taxon_order_name</th>\n",
       "      <th>taxon_family_name</th>\n",
       "    </tr>\n",
       "  </thead>\n",
       "  <tbody>\n",
       "    <tr>\n",
       "      <th>352</th>\n",
       "      <td>2493373</td>\n",
       "      <td>2015-12-21</td>\n",
       "      <td>126404</td>\n",
       "      <td>juliaschwierking</td>\n",
       "      <td>needs_id</td>\n",
       "      <td></td>\n",
       "      <td>Naval Station Apra, Asan, GU, US</td>\n",
       "      <td>13.461106</td>\n",
       "      <td>144.730564</td>\n",
       "      <td>5</td>\n",
       "      <td>Hemiptera</td>\n",
       "      <td>True Bugs, Cicadas, Hoppers, Aphids and Allies</td>\n",
       "      <td>47744</td>\n",
       "      <td>Hemiptera</td>\n",
       "      <td></td>\n",
       "    </tr>\n",
       "    <tr>\n",
       "      <th>353</th>\n",
       "      <td>2495543</td>\n",
       "      <td>2015-12-22</td>\n",
       "      <td>7547</td>\n",
       "      <td>aubreymoore</td>\n",
       "      <td>needs_id</td>\n",
       "      <td>brought in by pco</td>\n",
       "      <td>Guam</td>\n",
       "      <td>13.444304</td>\n",
       "      <td>144.793731</td>\n",
       "      <td>29336</td>\n",
       "      <td>Chloropidae</td>\n",
       "      <td>grass flies</td>\n",
       "      <td>127593</td>\n",
       "      <td>Diptera</td>\n",
       "      <td>Chloropidae</td>\n",
       "    </tr>\n",
       "    <tr>\n",
       "      <th>354</th>\n",
       "      <td>2516176</td>\n",
       "      <td>2015-12-30</td>\n",
       "      <td>7547</td>\n",
       "      <td>aubreymoore</td>\n",
       "      <td>needs_id</td>\n",
       "      <td></td>\n",
       "      <td>Yigo, Guam</td>\n",
       "      <td>13.532259</td>\n",
       "      <td>144.871610</td>\n",
       "      <td>1</td>\n",
       "      <td>Psilogramma menephron</td>\n",
       "      <td>Privet Hawk Moth</td>\n",
       "      <td>121854</td>\n",
       "      <td>Lepidoptera</td>\n",
       "      <td>Sphingidae</td>\n",
       "    </tr>\n",
       "  </tbody>\n",
       "</table>\n",
       "</div>"
      ],
      "text/plain": [
       "          id observed_on  user_id        user_login quality_grade  \\\n",
       "352  2493373  2015-12-21   126404  juliaschwierking      needs_id   \n",
       "353  2495543  2015-12-22     7547       aubreymoore      needs_id   \n",
       "354  2516176  2015-12-30     7547       aubreymoore      needs_id   \n",
       "\n",
       "           description                       place_guess   latitude  \\\n",
       "352                     Naval Station Apra, Asan, GU, US  13.461106   \n",
       "353  brought in by pco                              Guam  13.444304   \n",
       "354                                           Yigo, Guam  13.532259   \n",
       "\n",
       "      longitude positional_accuracy        scientific_name  \\\n",
       "352  144.730564                   5              Hemiptera   \n",
       "353  144.793731               29336            Chloropidae   \n",
       "354  144.871610                   1  Psilogramma menephron   \n",
       "\n",
       "                                        common_name taxon_id taxon_order_name  \\\n",
       "352  True Bugs, Cicadas, Hoppers, Aphids and Allies    47744        Hemiptera   \n",
       "353                                     grass flies   127593          Diptera   \n",
       "354                                Privet Hawk Moth   121854      Lepidoptera   \n",
       "\n",
       "    taxon_family_name  \n",
       "352                    \n",
       "353       Chloropidae  \n",
       "354        Sphingidae  "
      ]
     },
     "execution_count": 7,
     "metadata": {},
     "output_type": "execute_result"
    }
   ],
   "source": [
    "# Uncompress the CSV zip file and import into a pandas data frame\n",
    "\n",
    "import pandas as pd\n",
    "import zipfile\n",
    "\n",
    "zf = zipfile.ZipFile(inat_project_data)\n",
    "data = zf.open(inat_project_data.replace('.zip', ''))\n",
    "df = pd.read_csv(data, parse_dates=[1])\n",
    "df.fillna('', inplace=True)\n",
    "df.tail(3)"
   ]
  },
  {
   "cell_type": "code",
   "execution_count": 8,
   "metadata": {
    "collapsed": false
   },
   "outputs": [
    {
     "name": "stdout",
     "output_type": "stream",
     "text": [
      "355 label(s) output on 3 page(s).\n"
     ]
    }
   ],
   "source": [
    "# Generate insect pin labels\n",
    "\n",
    "import labels\n",
    "from reportlab.graphics import shapes\n",
    "import datetime\n",
    "\n",
    "sheet_width = 8.5 * 25.4\n",
    "sheet_height = 11 * 25.4\n",
    "columns = 7\n",
    "rows = 20\n",
    "label_width = 30\n",
    "label_size = 12\n",
    "corner_radius = 1\n",
    "\n",
    "specs = labels.Specification(sheet_width, sheet_height, columns, rows, label_width, label_size, \n",
    "                             corner_radius=corner_radius)\n",
    "\n",
    "def filter_non_printable(str):\n",
    "  return ''.join([c for c in str if ord(c) > 31 or ord(c) == 9])\n",
    "\n",
    "def label_text(row):\n",
    "    s = []\n",
    "    s.append('iNaturalist {}'.format(row.id))\n",
    "    s.append(row.place_guess)\n",
    "    s.append('lat = {} lon = {} acc = {}m'.format(row.latitude, row.longitude, row.positional_accuracy))\n",
    "    \n",
    "    description = filter_non_printable(row.description)    \n",
    "    s.append(description)\n",
    "    \n",
    "    observed_on = datetime.date.strftime(row.observed_on, \"%d %b %Y\").upper()\n",
    "    s.append('Coll. {} {}'.format(row.user_login, observed_on))\n",
    "    \n",
    "    s.append('')\n",
    "    s.append('{}: {}'.format(row.taxon_order_name, row.taxon_family_name))\n",
    "    s.append(row.scientific_name)\n",
    "    s.append('Det. {} {}'.format(row.user_login, observed_on))\n",
    "    return(s)\n",
    "\n",
    "def draw_insect_label(label, width, height, obj):\n",
    "    font_size = 3.5\n",
    "    x = 2\n",
    "    y = 30\n",
    "    for item in obj:\n",
    "        label.add(shapes.String(x, y, item, fontName=\"Helvetica\", fontSize=font_size))\n",
    "        y -= font_size\n",
    "\n",
    "sheet = labels.Sheet(specs, draw_insect_label, border=True)\n",
    "for index, row in df.iterrows():\n",
    "    sheet.add_label(label_text(row))\n",
    "pdf_file_name = 'insect_pin_labels_for_{}.pdf'.format(inat_project_name)\n",
    "sheet.save(pdf_file_name)\n",
    "print(\"{0:d} label(s) output on {1:d} page(s).\".format(sheet.label_count, sheet.page_count))\n",
    "\n",
    "# Preview the PDF file in Evince. Modify to use your favorite PDF viewer.\n",
    "!evince {pdf_file_name}"
   ]
  },
  {
   "cell_type": "code",
   "execution_count": null,
   "metadata": {
    "collapsed": true
   },
   "outputs": [],
   "source": []
  }
 ],
 "metadata": {
  "kernelspec": {
   "display_name": "Python 2",
   "language": "python",
   "name": "python2"
  },
  "language_info": {
   "codemirror_mode": {
    "name": "ipython",
    "version": 2
   },
   "file_extension": ".py",
   "mimetype": "text/x-python",
   "name": "python",
   "nbconvert_exporter": "python",
   "pygments_lexer": "ipython2",
   "version": "2.7.10"
  }
 },
 "nbformat": 4,
 "nbformat_minor": 0
}
